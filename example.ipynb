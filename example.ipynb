{
 "cells": [
  {
   "cell_type": "code",
   "execution_count": 1,
   "metadata": {},
   "outputs": [
    {
     "name": "stdout",
     "output_type": "stream",
     "text": [
      "Name: accelerate\n",
      "Version: 0.26.1\n",
      "Summary: Accelerate\n",
      "Home-page: https://github.com/huggingface/accelerate\n",
      "Author: The HuggingFace team\n",
      "Author-email: sylvain@huggingface.co\n",
      "License: Apache\n",
      "Location: /Users/calebcourier/Projects/jsonformer/.venv/lib/python3.12/site-packages\n",
      "Requires: huggingface-hub, numpy, packaging, psutil, pyyaml, safetensors, torch\n",
      "Required-by: \n"
     ]
    }
   ],
   "source": [
    "! pip show accelerate"
   ]
  },
  {
   "cell_type": "code",
   "execution_count": 2,
   "metadata": {},
   "outputs": [
    {
     "name": "stderr",
     "output_type": "stream",
     "text": [
      "/Users/calebcourier/Projects/jsonformer/.venv/lib/python3.12/site-packages/tqdm/auto.py:21: TqdmWarning: IProgress not found. Please update jupyter and ipywidgets. See https://ipywidgets.readthedocs.io/en/stable/user_install.html\n",
      "  from .autonotebook import tqdm as notebook_tqdm\n",
      "W0915 16:28:07.600000 92212 torch/distributed/elastic/multiprocessing/redirects.py:29] NOTE: Redirects are currently not supported in Windows or MacOs.\n"
     ]
    },
    {
     "name": "stdout",
     "output_type": "stream",
     "text": [
      "Loading model and tokenizer...\n",
      "Loaded model and tokenizer\n"
     ]
    }
   ],
   "source": [
    "from transformers import AutoModelForCausalLM, AutoTokenizer\n",
    "\n",
    "print(\"Loading model and tokenizer...\")\n",
    "model_name = \"databricks/dolly-v2-3b\"\n",
    "model = AutoModelForCausalLM.from_pretrained(model_name, use_cache=True, device_map=\"auto\")\n",
    "tokenizer = AutoTokenizer.from_pretrained(model_name, use_fast=True, use_cache=True)\n",
    "print(\"Loaded model and tokenizer\")"
   ]
  },
  {
   "cell_type": "code",
   "execution_count": 3,
   "metadata": {},
   "outputs": [
    {
     "name": "stderr",
     "output_type": "stream",
     "text": [
      "The attention mask is not set and cannot be inferred from input because pad token is same as eos token. As a consequence, you may observe unexpected behavior. Please pass your input's `attention_mask` to obtain reliable results.\n"
     ]
    },
    {
     "name": "stdout",
     "output_type": "stream",
     "text": [
      "Generating...\n",
      "{\n",
      "  store: {\n",
      "    name: \u001b[32m\"Mike's Ski Shop\"\u001b[0m,\n",
      "    location: \u001b[32m\"Somewhere\"\u001b[0m,\n",
      "    inventory: [\n",
      "      {\n",
      "        productId: \u001b[32m\"1234567890\"\u001b[0m,\n",
      "        name: \u001b[32m\"Mike's Ski Shop\"\u001b[0m,\n",
      "        description: \u001b[32m\"Ski Shop\"\u001b[0m,\n",
      "        category: \u001b[32m\"Ski Shop\"\u001b[0m,\n",
      "        price: \u001b[32m20.09999\u001b[0m,\n",
      "        inStock: \u001b[32mTrue\u001b[0m,\n",
      "        rating: \u001b[32m5.09999\u001b[0m,\n",
      "        images: [\n",
      "          \u001b[32m\"http://www.example.com/images/ski.png\"\u001b[0m,\n",
      "          \u001b[32m\"http://www.example.com/images/ski.png\"\u001b[0m\n",
      "        ]\n",
      "      },\n",
      "      {\n",
      "        productId: \u001b[32m\"9876543210\"\u001b[0m,\n",
      "        name: \u001b[32m\"Mike's Ski Shop\"\u001b[0m,\n",
      "        description: \u001b[32m\"Ski Shop\"\u001b[0m,\n",
      "        category: \u001b[32m\"Ski Shop\"\u001b[0m,\n",
      "        price: \u001b[32m20.09999\u001b[0m,\n",
      "        inStock: \u001b[32mTrue\u001b[0m,\n",
      "        rating: \u001b[32m5.09999\u001b[0m,\n",
      "        images: [\n",
      "          \u001b[32m\"http://www.example.com/images/ski.png\"\u001b[0m\n",
      "        ]\n",
      "      },\n",
      "      {\n",
      "        productId: \u001b[32m\"9876543211\"\u001b[0m,\n",
      "        name: \u001b[32m\"Mike's Ski Shop\"\u001b[0m,\n",
      "        description: \u001b[32m\"Ski Shop\"\u001b[0m,\n",
      "        category: \u001b[32m\"Ski Shop\"\u001b[0m,\n",
      "        price: \u001b[32m20.09999\u001b[0m,\n",
      "        inStock: \u001b[32mTrue\u001b[0m,\n",
      "        rating: \u001b[32m5.09999\u001b[0m,\n",
      "        images: [\n",
      "          \u001b[32m\"http://www.example.com/images/ski.png\"\u001b[0m\n",
      "        ]\n",
      "      }\n",
      "    ]\n",
      "  }\n",
      "}\n"
     ]
    }
   ],
   "source": [
    "from jsonformer.format import highlight_values\n",
    "from jsonformer.main import Jsonformer\n",
    "\n",
    "ecomm = {\n",
    "    \"type\": \"object\",\n",
    "    \"properties\": {\n",
    "        \"store\": {\n",
    "            \"type\": \"object\",\n",
    "            \"properties\": {\n",
    "                \"name\": {\"type\": \"string\"},\n",
    "                \"location\": {\"type\": \"string\"},\n",
    "                \"inventory\": {\n",
    "                    \"type\": \"array\",\n",
    "                    \"items\": {\n",
    "                        \"type\": \"object\",\n",
    "                        \"properties\": {\n",
    "                            \"productId\": {\"type\": \"string\"},\n",
    "                            \"name\": {\"type\": \"string\"},\n",
    "                            \"description\": {\"type\": \"string\"},\n",
    "                            \"category\": {\"type\": \"string\"},\n",
    "                            \"price\": {\"type\": \"number\"},\n",
    "                            \"inStock\": {\"type\": \"boolean\"},\n",
    "                            \"rating\": {\"type\": \"number\"},\n",
    "                            \"images\": {\"type\": \"array\", \"items\": {\"type\": \"string\"}},\n",
    "                        },\n",
    "                    },\n",
    "                },\n",
    "            },\n",
    "        }\n",
    "    },\n",
    "}\n",
    "\n",
    "\n",
    "builder = Jsonformer(\n",
    "    model=model,\n",
    "    tokenizer=tokenizer,\n",
    "    json_schema=ecomm,\n",
    "    prompt=\"write a description about mike's ski shop which sells premium skis and snowboards\",\n",
    "    max_string_token_length=20,\n",
    ")\n",
    "\n",
    "print(\"Generating...\")\n",
    "output = builder()\n",
    "\n",
    "highlight_values(output)"
   ]
  },
  {
   "cell_type": "code",
   "execution_count": 4,
   "metadata": {},
   "outputs": [
    {
     "name": "stdout",
     "output_type": "stream",
     "text": [
      "Generating...\n",
      "{\n",
      "  make: \u001b[32m\"audi\"\u001b[0m,\n",
      "  model: \u001b[32m\"a4\"\u001b[0m,\n",
      "  year: \u001b[32m2016.0\u001b[0m,\n",
      "  colors_available: [\n",
      "    \u001b[32m\"blue\"\u001b[0m\n",
      "  ]\n",
      "}\n"
     ]
    }
   ],
   "source": [
    "car = {\n",
    "    \"type\": \"object\",\n",
    "    \"properties\": {\n",
    "        \"make\": {\"type\": \"string\"},\n",
    "        \"model\": {\"type\": \"string\"},\n",
    "        \"year\": {\"type\": \"number\"},\n",
    "        \"colors_available\": {\n",
    "            \"type\": \"array\",\n",
    "            \"items\": {\"type\": \"string\"},\n",
    "        },\n",
    "    },\n",
    "}\n",
    "\n",
    "builder = Jsonformer(\n",
    "    model=model,\n",
    "    tokenizer=tokenizer,\n",
    "    json_schema=car,\n",
    "    prompt=\"generate an example car\",\n",
    ")\n",
    "\n",
    "print(\"Generating...\")\n",
    "output = builder()\n",
    "\n",
    "highlight_values(output)\n"
   ]
  },
  {
   "cell_type": "code",
   "execution_count": 5,
   "metadata": {},
   "outputs": [
    {
     "name": "stdout",
     "output_type": "stream",
     "text": [
      "Generating...\n",
      "{\n",
      "  car: {\n",
      "    make: \u001b[32m\"Rolls Royce\"\u001b[0m,\n",
      "    model: \u001b[32m\"Phantom\"\u001b[0m,\n",
      "    year: \u001b[32m2016.0\u001b[0m,\n",
      "    colors: [\n",
      "      \u001b[32m\"Gold\"\u001b[0m\n",
      "    ],\n",
      "    features: {\n",
      "      audio: {\n",
      "        brand: \u001b[32m\"Mercedes\"\u001b[0m,\n",
      "        speakers: \u001b[32m2.0\u001b[0m,\n",
      "        hasBluetooth: \u001b[32mTrue\u001b[0m\n",
      "      },\n",
      "      safety: {\n",
      "        airbags: \u001b[32m2.0\u001b[0m,\n",
      "        parkingSensors: \u001b[32mTrue\u001b[0m,\n",
      "        laneAssist: \u001b[32mTrue\u001b[0m\n",
      "      },\n",
      "      performance: {\n",
      "        engine: \u001b[32m\"Mercedes-Benz OM615\"\u001b[0m,\n",
      "        horsepower: \u001b[32m350.0\u001b[0m,\n",
      "        topSpeed: \u001b[32m220.0\u001b[0m\n",
      "      }\n",
      "    }\n",
      "  },\n",
      "  owner: {\n",
      "    firstName: \u001b[32m\"John\"\u001b[0m,\n",
      "    lastName: \u001b[32m\"Doe\"\u001b[0m,\n",
      "    age: \u001b[32m40.0\u001b[0m\n",
      "  }\n",
      "}\n"
     ]
    }
   ],
   "source": [
    "complex_car = {\"type\": \"object\", \"properties\": {\"car\": {\"type\": \"object\", \"properties\": {\"make\": {\"type\": \"string\"}, \"model\": {\"type\": \"string\"}, \"year\": {\"type\": \"number\"}, \"colors\": {\"type\": \"array\", \"items\": {\"type\": \"string\"}}, \"features\": {\"type\": \"object\", \"properties\": {\"audio\": {\"type\": \"object\", \"properties\": {\"brand\": {\"type\": \"string\"}, \"speakers\": {\"type\": \"number\"}, \"hasBluetooth\": {\"type\": \"boolean\"}}}, \"safety\": {\"type\": \"object\", \"properties\": {\"airbags\": {\"type\": \"number\"}, \"parkingSensors\": {\"type\": \"boolean\"}, \"laneAssist\": {\"type\": \"boolean\"}}}, \"performance\": {\"type\": \"object\", \"properties\": {\"engine\": {\"type\": \"string\"}, \"horsepower\": {\"type\": \"number\"}, \"topSpeed\": {\"type\": \"number\"}}}}}}}, \"owner\": {\"type\": \"object\", \"properties\": {\"firstName\": {\"type\": \"string\"}, \"lastName\": {\"type\": \"string\"}, \"age\": {\"type\": \"number\"}}}}}\n",
    "builder = Jsonformer(\n",
    "    model=model,\n",
    "    tokenizer=tokenizer,\n",
    "    json_schema=complex_car,\n",
    "    prompt=\"generate an example Rolls Royce Phantom\",\n",
    ")\n",
    "\n",
    "print(\"Generating...\")\n",
    "output = builder()\n",
    "\n",
    "highlight_values(output)\n"
   ]
  }
 ],
 "metadata": {
  "kernelspec": {
   "display_name": ".venv",
   "language": "python",
   "name": "python3"
  },
  "language_info": {
   "codemirror_mode": {
    "name": "ipython",
    "version": 3
   },
   "file_extension": ".py",
   "mimetype": "text/x-python",
   "name": "python",
   "nbconvert_exporter": "python",
   "pygments_lexer": "ipython3",
   "version": "3.12.11"
  },
  "orig_nbformat": 4
 },
 "nbformat": 4,
 "nbformat_minor": 2
}
